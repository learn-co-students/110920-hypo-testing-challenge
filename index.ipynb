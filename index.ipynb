{
 "cells": [
  {
   "cell_type": "markdown",
   "metadata": {},
   "source": [
    "# Mod 2 Code Challenge: Northwind Database\n",
    "\n",
    "This assignment is designed to practice the following skills:\n",
    "\n",
    "1. Data Engineering\n",
    "    - Interpreting an entity relationship diagram (ERD) of a real-world SQL database\n",
    "    - Importing data from a real-world SQL database\n",
    "    - Data manipulation in SQL and/or Pandas\n",
    "2. Inferential Statistics\n",
    "    - Set up a hypothesis test\n",
    "    - Execute a hypothesis test\n",
    "    - Interpret the results of a hypothesis test in order to answer a business question"
   ]
  },
  {
   "cell_type": "markdown",
   "metadata": {},
   "source": [
    "Towards the bottom of this notebook, before the deliverables checklist and bonus section, you will find a series of empty cells. Fill them in with your work. Make sure that your code is clean and readable, and that each step of your process is documented. For this assignment each step builds upon the step before it. If you are having issues finishing one of the steps completely, move on to the next step to attempt every section."
   ]
  },
  {
   "cell_type": "markdown",
   "metadata": {},
   "source": [
    "### Setting up a Hypothesis Test\n",
    "\n",
    "The business question you are trying to answer is:\n",
    "\n",
    "> Is the mean `Quantity` of a product ordered *greater* when the product is discounted, compared to when it is not?\n",
    "\n",
    "Please be sure to provide answers for the following questions in markdown.\n",
    "\n",
    " - What is the null hypothesis H<sub>0</sub> and alternative hypothesis H<sub>A</sub>?\n",
    " - What does it mean to make `Type I` and `Type II` errors in this context?\n",
    " "
   ]
  },
  {
   "cell_type": "markdown",
   "metadata": {},
   "source": [
    "### Importing Data\n",
    "\n",
    "Contained in this repo is a SQLite database named ***northwind_db.sqlite***.  This database represents a subset of of the Northwind database — a free, open-source dataset created by Microsoft.  It contains the sales data for a fictional company called Northwind Traders.  The full ERD is below.\n",
    "\n",
    "For your main task, you are only required to utilize the **OrderDetail** table.\n",
    "\n",
    "Using SQL and/or Pandas, import the data contained in the OrderDetail table to begin data cleaning and analysis.\n",
    "\n",
    "![Northwind ERD](northwind_erd.png)"
   ]
  },
  {
   "cell_type": "markdown",
   "metadata": {},
   "source": [
    "### Preprocessing Data\n",
    "\n",
    "Before executing a statistical test, some preprocessing is needed to set up the framing of *when the product is discounted*.  Specifically, create two array-like variables `discounted` and `not_discounted`, distinguished from each other based on the values in the `Discount` column and containing values from the `Quantity` column.  (In other words, two \"lists\" of quantities, although those \"lists\" can be Pandas Series objects, NumPy arrays, base Python lists, or any other array-like.)  The definition of \"discounted\" is that `Discount` is greater than 0."
   ]
  },
  {
   "cell_type": "markdown",
   "metadata": {},
   "source": [
    "### Executing a Hypothesis Test\n",
    "\n",
    "Run a statistical test on the two samples, `discounted` and `not_discounted`.  Use a significance level of &alpha; = 0.05.\n",
    "\n",
    "***Note:*** treat the entire collections `discounted` and `not_discounted` as \"samples\" of their respective populations.  You do not need to take further samples from those collections.\n",
    "\n",
    "Write a few sentences explaining why you have chosen to run the statistical test you have chosen to run.\n",
    "\n",
    "Note that `scipy.stats.ttest_ind(a, b, equal_var=False)` performs a two-sided Welch's t-test and that p-values derived from two-sided tests are two times the p-values derived from one-sided tests. See the [documentation](https://docs.scipy.org/doc/scipy/reference/generated/scipy.stats.ttest_ind.html) for more information."
   ]
  },
  {
   "cell_type": "markdown",
   "metadata": {},
   "source": [
    "### Interpreting Results\n",
    "\n",
    "What do the results of your hypothesis test indicate?  Can you reject the null hypothesis, and what does this mean from a business context?  Consider utilizing visualizations to support your recommendation to Northwind Trading."
   ]
  },
  {
   "cell_type": "code",
   "execution_count": null,
   "metadata": {},
   "outputs": [],
   "source": [
    "# Your code here "
   ]
  },
  {
   "cell_type": "code",
   "execution_count": null,
   "metadata": {},
   "outputs": [],
   "source": [
    "# Your code here "
   ]
  },
  {
   "cell_type": "code",
   "execution_count": null,
   "metadata": {},
   "outputs": [],
   "source": [
    "# Your code here "
   ]
  },
  {
   "cell_type": "code",
   "execution_count": null,
   "metadata": {},
   "outputs": [],
   "source": [
    "# Your code here "
   ]
  },
  {
   "cell_type": "code",
   "execution_count": null,
   "metadata": {},
   "outputs": [],
   "source": [
    "# Your code here "
   ]
  },
  {
   "cell_type": "code",
   "execution_count": null,
   "metadata": {},
   "outputs": [],
   "source": [
    "# Your code here "
   ]
  },
  {
   "cell_type": "markdown",
   "metadata": {},
   "source": [
    "# Deliverables Checklist\n",
    "\n",
    "(Using markdown, mark items as complete in this checklist by changing `[ ]` to `[x]`)\n",
    "\n",
    " - [ ] Documentation of the null and alternative hypotheses\n",
    " - [ ] Documentation of what Type I and Type II errors mean in this context\n",
    " - [ ] An array-like variable `discounted` that contains the `Quantity` values for records with `Discount` values greater than 0\n",
    " - [ ] An array-like variable `not_discounted` that contains the `Quantity` values for records with `Discount` values equal to 0\n",
    " - [ ] A hypothesis test that answers the business question: *Is the mean `Quantity` of a product ordered greater when the product is discounted, compared to when it is not?*\n",
    " - [ ] A short paragraph detailing your findings"
   ]
  },
  {
   "cell_type": "markdown",
   "metadata": {},
   "source": [
    "## Bonus\n",
    "\n",
    "NOTE: Please do not attempt this section until you have fully completed the main sections. \n",
    "\n",
    "Your previous analysis indicates whether customers are buying higher quantities per order for discounted products.  But how does that impact the **profit margin per order**?\n",
    "\n",
    "For the purpose of this analysis, profit margin per order is calculated as:\n",
    "\n",
    "(`sale price` * `quantity per unit`) - `wholesale price`\n",
    "\n",
    " -  `sale price` is defined as the discounted `OrderDetail` `UnitPrice`, i.e.\n",
    "    - `UnitPrice` * (1 - `Discount`)\n",
    " - `quantity per unit` is defined as the `QuantityPerUnit` from `Product`\n",
    " - `wholesale price` is defined as the `Product` `UnitPrice`\n",
    "\n",
    "The question to answer is:\n",
    "\n",
    "> Is the mean profit margin per order greater when the product is discounted, compared to when it is not?\n",
    "\n",
    "Answer this question descriptively first (comparing the two means), then set up and execute a hypothesis test if you have time."
   ]
  },
  {
   "cell_type": "code",
   "execution_count": null,
   "metadata": {},
   "outputs": [],
   "source": [
    "# Your bonus code here"
   ]
  },
  {
   "cell_type": "code",
   "execution_count": null,
   "metadata": {},
   "outputs": [],
   "source": [
    "# Your bonus code here "
   ]
  },
  {
   "cell_type": "code",
   "execution_count": null,
   "metadata": {},
   "outputs": [],
   "source": [
    "# Your bonus code here "
   ]
  }
 ],
 "metadata": {
  "kernelspec": {
   "display_name": "learn-env",
   "language": "python",
   "name": "learn-env"
  },
  "language_info": {
   "codemirror_mode": {
    "name": "ipython",
    "version": 3
   },
   "file_extension": ".py",
   "mimetype": "text/x-python",
   "name": "python",
   "nbconvert_exporter": "python",
   "pygments_lexer": "ipython3",
   "version": "3.7.3"
  },
  "toc": {
   "base_numbering": 1,
   "nav_menu": {},
   "number_sections": true,
   "sideBar": true,
   "skip_h1_title": false,
   "title_cell": "Table of Contents",
   "title_sidebar": "Contents",
   "toc_cell": false,
   "toc_position": {},
   "toc_section_display": true,
   "toc_window_display": false
  }
 },
 "nbformat": 4,
 "nbformat_minor": 4
}
